{
 "cells": [
  {
   "cell_type": "code",
   "execution_count": 1,
   "id": "07c97dff",
   "metadata": {},
   "outputs": [],
   "source": [
    "import numpy as np\n",
    "import matplotlib.pyplot as plt\n",
    "import seaborn as sns\n",
    "import pandas as pd\n",
    "import sys\n",
    "import os\n",
    "import glob\n",
    "import scipy.stats as sps\n",
    "from tqdm import tqdm"
   ]
  },
  {
   "cell_type": "code",
   "execution_count": 2,
   "id": "48ce51c2",
   "metadata": {},
   "outputs": [],
   "source": [
    "def rank_zscore(data):\n",
    "    \"\"\" \n",
    "    Return the normally-distributed z-scores of the given data. Each column is individually \n",
    "    ranked against itself, then the ranked data is z-scored assuming a normal distribution.\n",
    "    \n",
    "    \n",
    "    Parameters\n",
    "    ----------\n",
    "    data : (G, S) array\n",
    "        Array with ``G`` genes and ``S`` independent samples containing scRNA-seq data.\n",
    "    \n",
    "    Returns\n",
    "    -------\n",
    "    out : (G, S) array\n",
    "        Array with ``G`` genes and ``S`` independent samples containing ranked then z-scored scRNA-seq data.\n",
    "    \n",
    "    \"\"\"\n",
    "\n",
    "    if len(data.shape) == 1:\n",
    "        data = data.reshape((data.size,1))\n",
    "        \n",
    "    G, S = data.shape\n",
    "    \n",
    "    # Calculate rank for each sample\n",
    "    rank_data = np.zeros(data.shape) \n",
    "    \n",
    "    for i in range(S):\n",
    "        # by default, ties method is average\n",
    "        rank_data[:,i] = sps.rankdata(data[:,i]) \n",
    "\n",
    "    # Convert rank_data to percentiles according to a normal distribution\n",
    "    output_data = sps.norm.ppf(rank_data / (G+1))\n",
    "\n",
    "    return output_data\n",
    "\n",
    "def process(data, average=False):\n",
    "    \"\"\"\n",
    "    Return the processed scRNA-seq data. Each sample is independently normalized, then the fitted z-score\n",
    "    is calculated. Optionally, an average is taken across samples before z-scoring.\n",
    "    \n",
    "    Parameters\n",
    "    ----------\n",
    "    data : (G, S) DataFrame\n",
    "        Table with ``G`` genes and ``S`` independent samples containing raw counts from scRNA-seq.\n",
    "    average : bool, optional\n",
    "        if True: take the average across samples after normalizing and before z-scoring\n",
    "        \n",
    "    Returns\n",
    "    -------\n",
    "    out : (G, S) DataFrame (or (G, 1) if ``average``)\n",
    "        Table with ``G`` genes and ``S`` independent samples containing processed scRNA-seq data.\n",
    "    \n",
    "    \"\"\"\n",
    "    \n",
    "    # Normalize each sample independently\n",
    "    data_normalized = data/np.sum(data,axis=0)\n",
    "    \n",
    "    # Average across samples, if requested\n",
    "    if average:\n",
    "        data_normalized = data_normalized.mean(axis=1)\n",
    "    \n",
    "    # Find the normal-distribution z-scores of log(expression + 1)\n",
    "    data_zscored = rank_zscore(np.log2(data_normalized.values + 1))\n",
    "    \n",
    "    return pd.DataFrame(data_zscored, index=data.index)"
   ]
  },
  {
   "cell_type": "code",
   "execution_count": 3,
   "id": "719dc941",
   "metadata": {},
   "outputs": [],
   "source": [
    "source_folder = './source_data/'\n",
    "dest_folder = './processed_data/'"
   ]
  },
  {
   "cell_type": "markdown",
   "id": "c796e51d",
   "metadata": {
    "tags": []
   },
   "source": [
    "# Load [Mouse Cell Atlas](https://figshare.com/articles/dataset/MCA_DGE_Data/5435866)\n",
    "\n",
    "840 cell types"
   ]
  },
  {
   "cell_type": "code",
   "execution_count": 4,
   "id": "9a352581",
   "metadata": {},
   "outputs": [],
   "source": [
    "MCA_folder = source_folder + 'MCA_rmbatch_dge/'\n",
    "MCA_annotations = pd.read_csv(MCA_folder + 'MCA_CellAssignments.csv')\n",
    "MCA_annotations = MCA_annotations.drop(columns='Unnamed: 0')\n",
    "\n",
    "cell_types = MCA_annotations['Annotation'].unique()\n",
    "dataframes_specific = {cell_type: [] for cell_type in cell_types}"
   ]
  },
  {
   "cell_type": "markdown",
   "id": "94f20b87-6958-4cd2-869d-a1b26f7bf684",
   "metadata": {},
   "source": [
    "Make a dictionary of cell type:dataframes. Each dataframe corresponds to all samples of a particular cell type.\n",
    "\n",
    "**This cell takes hours to run. Avoid re-running if possible!**"
   ]
  },
  {
   "cell_type": "code",
   "execution_count": null,
   "id": "6b87fbe6",
   "metadata": {
    "tags": []
   },
   "outputs": [],
   "source": [
    "unlabeled_cells = []\n",
    "\n",
    "for filename in tqdm(glob.glob(MCA_folder + '*_rm.batch_dge.txt'), desc='File progress'):\n",
    "    current_dataframe = pd.read_csv(filename, sep=\" \")\n",
    "    \n",
    "    for current_cell in current_dataframe.columns:\n",
    "        if len(np.where(MCA_annotations['Cell.name'] == current_cell)[0]) == 0:\n",
    "            unlabeled_cells += [current_dataframe[current_cell]]\n",
    "        else:\n",
    "            current_type = MCA_annotations['Annotation'][MCA_annotations['Cell.name'] == current_cell]\n",
    "            dataframes_specific_type[current_type.values[0]] += [current_dataframe[current_cell]]\n",
    "            \n",
    "# Save the dictionary of dataframes, since it takes 3 hours (!) to create\n",
    "f = open(dest_folder+'MCA_dictionary.dat','wb')\n",
    "pickle.dump(dataframes_specific_type,f)\n",
    "f.close()\n",
    "\n",
    "# Save the dataframes to separate .h5 files, too\n",
    "for cell_type, dataframe in tqdm(dataframes_specific_type.items(), desc='Save progress'):\n",
    "    type_string = cell_type.replace('/','-')\n",
    "    dataframe.to_hdf(dest_folder+'MCA_raw_2022/'+type_string + '.h5', key = 'df', mode = 'w')"
   ]
  },
  {
   "cell_type": "code",
   "execution_count": null,
   "id": "e2157d84-1553-46d4-a294-1a118c013437",
   "metadata": {
    "tags": []
   },
   "outputs": [],
   "source": [
    "import pickle\n",
    "\n",
    "f = open('/projectnb/biophys/mariay/MCA/MCA_dictionary.dat','wb')\n",
    "pickle.dump(dataframes_specific_type,f)\n",
    "f.close()"
   ]
  },
  {
   "cell_type": "code",
   "execution_count": null,
   "id": "586afdb0-ef34-4e2b-873b-9111b22950db",
   "metadata": {
    "tags": []
   },
   "outputs": [],
   "source": [
    "dataframes_specific = {cell_type: pd.DataFrame() for cell_type in cell_types}\n",
    "\n",
    "for cell_type, array in tqdm(dataframes_specific_type.items()):\n",
    "    dataframes_specific[cell_type] = pd.concat(array, axis='columns')\n",
    "    \n",
    "    type_string = cell_type.replace('/','-')\n",
    "    dataframes_specific[cell_type].to_hdf(dest_folder+'MCA_raw_2022/'+type_string + '.h5', key = 'df', mode = 'w')"
   ]
  },
  {
   "cell_type": "markdown",
   "id": "8b21f3e1-24f0-4cbf-bb4d-013723eb1093",
   "metadata": {
    "tags": []
   },
   "source": [
    "Average and z-score the samples corresponding to a particular cell type, then concatenate each processed single-column dataframe into one big dataframe that will form the basis."
   ]
  },
  {
   "cell_type": "code",
   "execution_count": 5,
   "id": "6558f8dd",
   "metadata": {},
   "outputs": [],
   "source": [
    "# Standardize label format\n",
    "tags = pd.DataFrame([], columns=['Organ', 'Cell Type', 'Time Point', 'Condition', 'Source', 'Cell Count'], index=cell_types)\n",
    "\n",
    "for label in cell_types:\n",
    "    # Remove all _ and -\n",
    "    cleaned_label = label\n",
    "\n",
    "    if 'Pregrancy' in cleaned_label:\n",
    "        cleaned_label = cleaned_label.replace('Pregrancy','Pregnancy')\n",
    "    if 'Stomache' in cleaned_label:\n",
    "        cleaned_label = cleaned_label.replace('Stomache','Stomach')\n",
    "    if 'β' in cleaned_label:\n",
    "        cleaned_label = cleaned_label.replace('β','Beta')\n",
    "    if 'Clara' in cleaned_label:\n",
    "        cleaned_label = cleaned_label.replace('Clara','Club')\n",
    "    if 'Preosteoblast-Osteoblast-Bone cell-Cartilage' in cleaned_label:\n",
    "        cleaned_label = cleaned_label.replace('Preosteoblast-Osteoblast-Bone cell-Cartilage',\n",
    "                                              'Preosteoblast/Osteoblast/Bone cell/Cartilage')\n",
    "    if 'Tendon stem-progenitor' in cleaned_label:\n",
    "        cleaned_label = cleaned_label.replace('Tendon stem-progenitor',\n",
    "                                              'Tendon stem/progenitor')\n",
    "        \n",
    "    if 'Neonatal' in cleaned_label:\n",
    "        tags['Time Point'][label] = 'P1'\n",
    "        cleaned_label = cleaned_label.replace('Neonatal','')\n",
    "    elif 'Fetal' in cleaned_label:\n",
    "        tags['Time Point'][label] = 'E14.5'\n",
    "        cleaned_label = cleaned_label.replace('Fetal','')\n",
    "    else:\n",
    "        tags['Time Point'][label] = 'WK6-10'\n",
    "        \n",
    "    if 'Lactation' in cleaned_label:\n",
    "        tags['Condition'][label] = 'lactation'\n",
    "        cleaned_label = cleaned_label.replace('Lactation','')\n",
    "    if 'Involution' in cleaned_label:\n",
    "        tags['Condition'][label] = 'involution'\n",
    "        cleaned_label = cleaned_label.replace('Involution','')\n",
    "    if 'Virgin' in cleaned_label:\n",
    "        tags['Condition'][label] = 'virgin'\n",
    "        cleaned_label = cleaned_label.replace('Virgin','')\n",
    "    if 'high' in cleaned_label:\n",
    "        underscore_idx = cleaned_label.find('_')\n",
    "        high_idx = cleaned_label.find('high')\n",
    "        high_gene = cleaned_label[underscore_idx+1:high_idx]\n",
    "        tags['Condition'][label] = high_gene + ' high'\n",
    "        cleaned_label = cleaned_label.replace('_' + high_gene + 'high', '')\n",
    "        \n",
    "    cleaned_label = cleaned_label.replace('_',' ')\n",
    "    cleaned_label = cleaned_label.replace('-',' ')\n",
    "    \n",
    "    paren_idx1 = cleaned_label.find('(')\n",
    "    paren_idx2 = cleaned_label.find(')')\n",
    "    \n",
    "    # Make sure the first letter of each word is capitalized\n",
    "    cleaned_label = ' '.join(word[0].upper() + word[1:] for word in cleaned_label.split())\n",
    "    \n",
    "    if label=='Astroglial Cell (Bergman Glia) (Brain)': # this is the only type with 2 sets of parentheses\n",
    "        tags['Organ'][label] = 'Brain'\n",
    "        tags['Cell Type'][label] = 'Bergmann Glia'\n",
    "    else:\n",
    "        tags['Organ'][label] = cleaned_label[paren_idx1+1:paren_idx2].strip()\n",
    "        tags['Cell Type'][label] = cleaned_label[:paren_idx1].strip()\n",
    "    \n",
    "    tags['Source'][label] = 'MC20'\n",
    "    \n",
    "tags = tags.fillna('')"
   ]
  },
  {
   "cell_type": "code",
   "execution_count": 6,
   "id": "4ace4038-c320-4095-bb0a-0a0691711e3c",
   "metadata": {},
   "outputs": [],
   "source": [
    "general_types_map = tags['Organ'] + ' ' + tags['Cell Type'] + ' ' + tags['Time Point'] + ' ' + tags['Source']\n",
    "general_types = general_types_map.unique()\n",
    "dataframes_general = {cell_type:[] for cell_type in general_types}"
   ]
  },
  {
   "cell_type": "code",
   "execution_count": 7,
   "id": "cec056a0-d8d2-4cfb-bff2-ae727ad4aa14",
   "metadata": {},
   "outputs": [
    {
     "name": "stderr",
     "output_type": "stream",
     "text": [
      "100%|██████████| 840/840 [04:27<00:00,  3.14it/s]\n"
     ]
    }
   ],
   "source": [
    "# Retrieve raw sample data that has been separated into individual files/dataframes according to cell type\n",
    "# Make each entry in the dataframes_general_type dictionary an array of dataframes, that we will concatenate\n",
    "\n",
    "for file in tqdm(glob.glob(\"./processed_data/MCA_raw/*.h5\")):\n",
    "    current_df = pd.read_hdf(file)\n",
    "    current_type = file[len('./processed_data/MCA_raw/'):-3]\n",
    "    \n",
    "    if 'Preosteoblast-Osteoblast-Bone cell-Cartilage' in current_type:\n",
    "        current_type = current_type.replace('Preosteoblast-Osteoblast-Bone cell-Cartilage',\n",
    "                                              'Preosteoblast/Osteoblast/Bone cell/Cartilage')\n",
    "    if 'Tendon stem-progenitor' in current_type:\n",
    "        current_type = current_type.replace('Tendon stem-progenitor',\n",
    "                                              'Tendon stem/progenitor')\n",
    "    dataframes_general[general_types_map[current_type]] += [current_df]"
   ]
  },
  {
   "cell_type": "code",
   "execution_count": 8,
   "id": "d90c86d1-373b-4b22-a39c-046ee895ecf9",
   "metadata": {},
   "outputs": [
    {
     "name": "stderr",
     "output_type": "stream",
     "text": [
      "100%|██████████| 516/516 [00:26<00:00, 19.78it/s]\n"
     ]
    }
   ],
   "source": [
    "all_genes = np.array([])\n",
    "\n",
    "for cell_type, array in tqdm(dataframes_general.items()):\n",
    "    # Concatenate all samples belonging to a general type\n",
    "    dataframes_general[cell_type] = pd.concat(array, axis='columns')\n",
    "    \n",
    "    # Collect all genes so we can fill missing entries with zeroes\n",
    "    all_genes = np.unique([*all_genes, *dataframes_general[cell_type].index])"
   ]
  },
  {
   "cell_type": "code",
   "execution_count": 9,
   "id": "83b570e6-bb59-496d-8426-cf5c0fd9083c",
   "metadata": {},
   "outputs": [
    {
     "name": "stderr",
     "output_type": "stream",
     "text": [
      "100%|██████████| 516/516 [02:51<00:00,  3.00it/s]\n"
     ]
    }
   ],
   "source": [
    "for cell_type, dataframe in tqdm(dataframes_general.items()):\n",
    "    # Fill genes with no entry with zeroes\n",
    "    dataframes_general[cell_type] = pd.DataFrame(dataframe,index=all_genes).fillna(0)"
   ]
  },
  {
   "cell_type": "code",
   "execution_count": 10,
   "id": "bf1e969e-f0a7-4299-882d-21c02b65b382",
   "metadata": {},
   "outputs": [],
   "source": [
    "tags_general = pd.DataFrame([], columns=['Organ', 'Cell Type', 'Time Point', 'Condition', 'Source', 'Cell Count'],\n",
    "                            index=general_types)\n",
    "\n",
    "for label in general_types:\n",
    "    # Use tags info from one of the corresponding specific types (everything except condition and cell count is the same)\n",
    "    specific_type = general_types_map[general_types_map == label].index[0]\n",
    "    tags_general.loc[label] = tags.loc[specific_type]\n",
    "    \n",
    "tags_general = tags_general.drop(columns='Condition')"
   ]
  },
  {
   "cell_type": "code",
   "execution_count": 11,
   "id": "a346c6a5",
   "metadata": {},
   "outputs": [
    {
     "name": "stderr",
     "output_type": "stream",
     "text": [
      "Type progress: 100%|██████████| 516/516 [02:10<00:00,  3.95it/s]\n"
     ]
    }
   ],
   "source": [
    "dataframe_list = []\n",
    "\n",
    "for cell_type, dataframe in tqdm(dataframes_general.items(), desc='Type progress'):\n",
    "    tags_general.loc[cell_type, 'Cell Count'] = dataframe.shape[1]\n",
    "    processed_dataframe = process(dataframe, average=True)\n",
    "    processed_dataframe.index.name = 'Gene'\n",
    "    processed_dataframe.columns = [cell_type]\n",
    "    dataframe_list += [processed_dataframe]\n",
    "    \n",
    "mca_data = pd.concat(dataframe_list, axis='columns')"
   ]
  },
  {
   "cell_type": "code",
   "execution_count": 27,
   "id": "778d0ba5",
   "metadata": {},
   "outputs": [],
   "source": [
    "mca_data.to_hdf(dest_folder + 'MCA_basis_apr22.h5', key = 'df', mode = 'w')\n",
    "tags_general.to_csv(dest_folder + 'MCA_basis_apr22_metadata.csv')"
   ]
  },
  {
   "cell_type": "markdown",
   "id": "6e8c397a-2dac-4bda-908c-d7954fb8f502",
   "metadata": {},
   "source": [
    "Replace some MCA lung samples with Michael Herriges' control samples"
   ]
  },
  {
   "cell_type": "code",
   "execution_count": 12,
   "id": "69e5c3d9-02f7-4df3-95c9-181ab236f88e",
   "metadata": {},
   "outputs": [],
   "source": [
    "combined_file = pd.read_csv(source_folder + 'herriges/21_01_06_herriges_with_week6_invivo.csv')\n",
    "combined_metadata = pd.read_csv(source_folder + 'herriges/metadata.csv')\n",
    "\n",
    "# Michael's labels for each of the clusters\n",
    "cluster_key = {'2':'AT1 and AT1-like',\n",
    "               '4':'Ciliated',\n",
    "               '6':'Basal',\n",
    "               '7':'Gastric-like',\n",
    "               '8':'Neuroendocrine',\n",
    "               '0+':'AT2',\n",
    "               '1+13':'Secretory',\n",
    "               '3+14':'AT2-like'}\n",
    "\n",
    "clusters = combined_metadata['new_clustering.07.12.2021'].values\n",
    "cluster_labels = [cluster_key[cluster] for cluster in clusters]\n",
    "identity = combined_metadata['orig.ident'].values\n",
    "\n",
    "def extract_sample(cell_type, cell_source):\n",
    "    indices = np.intersect1d(np.where(np.array(cluster_labels)==cell_type)[0],np.where(np.array(identity)==cell_source)[0])\n",
    "\n",
    "    if len(indices)==0:\n",
    "        raise LookupError('No cells in the specified subset')\n",
    "        \n",
    "    sample = process(combined_file.iloc[:,indices], average=True)\n",
    "    \n",
    "    return sample, len(indices)"
   ]
  },
  {
   "cell_type": "code",
   "execution_count": 13,
   "id": "9063dff7-a25c-4bbc-8aea-eb41ad7911e4",
   "metadata": {},
   "outputs": [],
   "source": [
    "mca_herriges_data = mca_data.copy()\n",
    "tags_herriges = tags_general.copy()\n",
    "\n",
    "herriges_types = {'Lung AT1 Cell WK6-10 MC20':'AT1 and AT1-like',\n",
    "                  'Lung AT2 Cell WK6-10 MC20':'AT2',\n",
    "                  'Lung Ciliated Cell WK6-10 MC20':'Ciliated',\n",
    "                  'Lung Club Cell WK6-10 MC20':'Secretory'\n",
    "                 }\n",
    "\n",
    "herriges_list = []\n",
    "\n",
    "for cell_type, cluster in herriges_types.items():\n",
    "    new_tag = cell_type.replace('MC20', 'KO22')\n",
    "    new_tag = new_tag.replace('-10', '')\n",
    "    mca_herriges_data = mca_herriges_data.drop(columns=cell_type)\n",
    "    sample_data, sample_cell_count = extract_sample(cluster, 'Control_wk6')\n",
    "    mca_herriges_data = pd.concat([mca_herriges_data, \n",
    "                                   pd.DataFrame(sample_data, columns=[new_tag])], axis='columns')\n",
    "    \n",
    "    tags_herriges.loc[new_tag] = tags_herriges.loc[cell_type]\n",
    "    tags_herriges = tags_herriges.drop(index=cell_type)\n",
    "    tags_herriges['Source'][new_tag] = 'KO22'\n",
    "    tags_herriges['Time Point'][new_tag] = 'WK6'\n",
    "    tags_herriges['Cell Count'][new_tag] = sample_cell_count\n",
    "\n",
    "basal_tag = 'Lung Basal Cell WK6 KO22'\n",
    "sample_data, sample_cell_count = extract_sample('Basal', 'Control_wk6')\n",
    "mca_herriges_data = pd.concat([mca_herriges_data, \n",
    "                               pd.DataFrame(sample_data, columns=[basal_tag])], axis='columns')\n",
    "    \n",
    "tags_herriges.loc[basal_tag] = {'Organ':'Lung',\n",
    "                                'Cell Type':'Basal',\n",
    "                                'Time Point': 'WK6',\n",
    "                                'Source':'KO22',\n",
    "                                'Cell Count': sample_cell_count}"
   ]
  },
  {
   "cell_type": "code",
   "execution_count": 68,
   "id": "7f9b93d5-8a00-4ea7-bc11-def04ed37a30",
   "metadata": {},
   "outputs": [
    {
     "data": {
      "text/plain": [
       "['Lung Stromal Cell E14.5 MC20',\n",
       " 'Lung Erythroblast E14.5 MC20',\n",
       " 'Lung Neutrophil E14.5 MC20',\n",
       " 'Lung Smooth Muscle Cell E14.5 MC20',\n",
       " 'Lung Macrophage E14.5 MC20',\n",
       " 'Lung Epithelial Cell E14.5 MC20',\n",
       " 'Lung Dendritic Cell WK6-10 MC20',\n",
       " 'Lung Ig−producing B Cell WK6-10 MC20',\n",
       " 'Lung Conventional Dendritic Cell WK6-10 MC20',\n",
       " 'Lung Endothelial Cells WK6-10 MC20',\n",
       " 'Lung Stromal Cell WK6-10 MC20',\n",
       " 'Lung T Cell WK6-10 MC20',\n",
       " 'Lung B Cell WK6-10 MC20',\n",
       " 'Lung Nuocyte WK6-10 MC20',\n",
       " 'Lung Dividing Dendritic Cells WK6-10 MC20',\n",
       " 'Lung Alveolar Macrophage WK6-10 MC20',\n",
       " 'Lung Interstitial Macrophage WK6-10 MC20',\n",
       " 'Lung Plasmacytoid Dendritic Cell WK6-10 MC20',\n",
       " 'Lung Monocyte Progenitor Cell WK6-10 MC20',\n",
       " 'Lung Endothelial Cell WK6-10 MC20',\n",
       " 'Lung Neutrophil Granulocyte WK6-10 MC20',\n",
       " 'Lung NK Cell WK6-10 MC20',\n",
       " 'Lung Eosinophil Granulocyte WK6-10 MC20',\n",
       " 'Lung Basophil WK6-10 MC20',\n",
       " 'Lung Dividing T Cells WK6-10 MC20',\n",
       " 'Lung Dividing Cells WK6-10 MC20',\n",
       " 'Lung Alveolar Bipotent Progenitor WK6-10 MC20',\n",
       " 'Lung AT1 Cell WK6 KO22',\n",
       " 'Lung AT2 Cell WK6 KO22',\n",
       " 'Lung Ciliated Cell WK6 KO22',\n",
       " 'Lung Club Cell WK6 KO22',\n",
       " 'Lung Basal Cell WK6-10 KO22']"
      ]
     },
     "execution_count": 68,
     "metadata": {},
     "output_type": "execute_result"
    }
   ],
   "source": [
    "[sample for sample in mca_herriges_data.columns if 'Lung' in sample]"
   ]
  },
  {
   "cell_type": "code",
   "execution_count": 14,
   "id": "3a89c71e-fdc2-4ef8-bda9-0c8a52a49ff8",
   "metadata": {},
   "outputs": [
    {
     "data": {
      "text/plain": [
       "00R_AC107638.2   NaN\n",
       "0610005C13Rik    NaN\n",
       "0610006L08Rik    NaN\n",
       "0610007P14Rik    NaN\n",
       "0610009B22Rik    NaN\n",
       "                  ..\n",
       "Gm30893          NaN\n",
       "Gm47118          NaN\n",
       "Gm34558          NaN\n",
       "Gm36377          NaN\n",
       "AC138604.2       NaN\n",
       "Name: Lung AT1 Cell WK6 KO22, Length: 38353, dtype: float64"
      ]
     },
     "execution_count": 14,
     "metadata": {},
     "output_type": "execute_result"
    }
   ],
   "source": [
    "mca_herriges_data.loc[:,'Lung AT1 Cell WK6 KO22']"
   ]
  },
  {
   "cell_type": "code",
   "execution_count": null,
   "id": "1970c675-8f88-443d-ad4c-0c1b0f9c3afb",
   "metadata": {},
   "outputs": [],
   "source": []
  }
 ],
 "metadata": {
  "kernelspec": {
   "display_name": "Python 3",
   "language": "python",
   "name": "python3"
  },
  "language_info": {
   "codemirror_mode": {
    "name": "ipython",
    "version": 3
   },
   "file_extension": ".py",
   "mimetype": "text/x-python",
   "name": "python",
   "nbconvert_exporter": "python",
   "pygments_lexer": "ipython3",
   "version": "3.8.10"
  }
 },
 "nbformat": 4,
 "nbformat_minor": 5
}
